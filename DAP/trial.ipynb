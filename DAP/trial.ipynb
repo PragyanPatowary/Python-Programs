{
 "cells": [
  {
   "cell_type": "code",
   "execution_count": 1,
   "id": "57cd24f1-11cc-49d5-9790-7d1bd456309b",
   "metadata": {},
   "outputs": [],
   "source": [
    "import numpy as np # linear algebra\n",
    "import pandas as pd # data processing, CSV file I/O (e.g. pd.read_csv)\n",
    "\n",
    "import os\n",
    "for dirname, _, filenames in os.walk('DAP/stocks.csv'):\n",
    "    for filename in filenames:\n",
    "        print(os.path.join(dirname, filename))\n",
    "\n"
   ]
  },
  {
   "cell_type": "code",
   "execution_count": 5,
   "id": "01350cbe-7e78-423a-9de6-fbfc74f3ea8c",
   "metadata": {},
   "outputs": [
    {
     "data": {
      "text/html": [
       "<div>\n",
       "<style scoped>\n",
       "    .dataframe tbody tr th:only-of-type {\n",
       "        vertical-align: middle;\n",
       "    }\n",
       "\n",
       "    .dataframe tbody tr th {\n",
       "        vertical-align: top;\n",
       "    }\n",
       "\n",
       "    .dataframe thead th {\n",
       "        text-align: right;\n",
       "    }\n",
       "</style>\n",
       "<table border=\"1\" class=\"dataframe\">\n",
       "  <thead>\n",
       "    <tr style=\"text-align: right;\">\n",
       "      <th></th>\n",
       "      <th>Ticker</th>\n",
       "      <th>Date</th>\n",
       "      <th>Open</th>\n",
       "      <th>High</th>\n",
       "      <th>Low</th>\n",
       "      <th>Close</th>\n",
       "      <th>Adj Close</th>\n",
       "      <th>Volume</th>\n",
       "    </tr>\n",
       "  </thead>\n",
       "  <tbody>\n",
       "    <tr>\n",
       "      <th>0</th>\n",
       "      <td>AAPL</td>\n",
       "      <td>2023-02-07</td>\n",
       "      <td>150.639999</td>\n",
       "      <td>155.229996</td>\n",
       "      <td>150.639999</td>\n",
       "      <td>154.649994</td>\n",
       "      <td>154.414230</td>\n",
       "      <td>83322600</td>\n",
       "    </tr>\n",
       "    <tr>\n",
       "      <th>1</th>\n",
       "      <td>AAPL</td>\n",
       "      <td>2023-02-08</td>\n",
       "      <td>153.880005</td>\n",
       "      <td>154.580002</td>\n",
       "      <td>151.169998</td>\n",
       "      <td>151.919998</td>\n",
       "      <td>151.688400</td>\n",
       "      <td>64120100</td>\n",
       "    </tr>\n",
       "    <tr>\n",
       "      <th>2</th>\n",
       "      <td>AAPL</td>\n",
       "      <td>2023-02-09</td>\n",
       "      <td>153.779999</td>\n",
       "      <td>154.330002</td>\n",
       "      <td>150.419998</td>\n",
       "      <td>150.869995</td>\n",
       "      <td>150.639999</td>\n",
       "      <td>56007100</td>\n",
       "    </tr>\n",
       "    <tr>\n",
       "      <th>3</th>\n",
       "      <td>AAPL</td>\n",
       "      <td>2023-02-10</td>\n",
       "      <td>149.460007</td>\n",
       "      <td>151.339996</td>\n",
       "      <td>149.220001</td>\n",
       "      <td>151.009995</td>\n",
       "      <td>151.009995</td>\n",
       "      <td>57450700</td>\n",
       "    </tr>\n",
       "    <tr>\n",
       "      <th>4</th>\n",
       "      <td>AAPL</td>\n",
       "      <td>2023-02-13</td>\n",
       "      <td>150.949997</td>\n",
       "      <td>154.259995</td>\n",
       "      <td>150.919998</td>\n",
       "      <td>153.850006</td>\n",
       "      <td>153.850006</td>\n",
       "      <td>62199000</td>\n",
       "    </tr>\n",
       "    <tr>\n",
       "      <th>...</th>\n",
       "      <td>...</td>\n",
       "      <td>...</td>\n",
       "      <td>...</td>\n",
       "      <td>...</td>\n",
       "      <td>...</td>\n",
       "      <td>...</td>\n",
       "      <td>...</td>\n",
       "      <td>...</td>\n",
       "    </tr>\n",
       "    <tr>\n",
       "      <th>243</th>\n",
       "      <td>GOOG</td>\n",
       "      <td>2023-05-01</td>\n",
       "      <td>107.720001</td>\n",
       "      <td>108.680000</td>\n",
       "      <td>107.500000</td>\n",
       "      <td>107.709999</td>\n",
       "      <td>107.709999</td>\n",
       "      <td>20926300</td>\n",
       "    </tr>\n",
       "    <tr>\n",
       "      <th>244</th>\n",
       "      <td>GOOG</td>\n",
       "      <td>2023-05-02</td>\n",
       "      <td>107.660004</td>\n",
       "      <td>107.730003</td>\n",
       "      <td>104.500000</td>\n",
       "      <td>105.980003</td>\n",
       "      <td>105.980003</td>\n",
       "      <td>20343100</td>\n",
       "    </tr>\n",
       "    <tr>\n",
       "      <th>245</th>\n",
       "      <td>GOOG</td>\n",
       "      <td>2023-05-03</td>\n",
       "      <td>106.220001</td>\n",
       "      <td>108.129997</td>\n",
       "      <td>105.620003</td>\n",
       "      <td>106.120003</td>\n",
       "      <td>106.120003</td>\n",
       "      <td>17116300</td>\n",
       "    </tr>\n",
       "    <tr>\n",
       "      <th>246</th>\n",
       "      <td>GOOG</td>\n",
       "      <td>2023-05-04</td>\n",
       "      <td>106.160004</td>\n",
       "      <td>106.300003</td>\n",
       "      <td>104.699997</td>\n",
       "      <td>105.209999</td>\n",
       "      <td>105.209999</td>\n",
       "      <td>19780600</td>\n",
       "    </tr>\n",
       "    <tr>\n",
       "      <th>247</th>\n",
       "      <td>GOOG</td>\n",
       "      <td>2023-05-05</td>\n",
       "      <td>105.320000</td>\n",
       "      <td>106.440002</td>\n",
       "      <td>104.738998</td>\n",
       "      <td>106.214996</td>\n",
       "      <td>106.214996</td>\n",
       "      <td>20705300</td>\n",
       "    </tr>\n",
       "  </tbody>\n",
       "</table>\n",
       "<p>248 rows × 8 columns</p>\n",
       "</div>"
      ],
      "text/plain": [
       "    Ticker        Date        Open        High         Low       Close  \\\n",
       "0     AAPL  2023-02-07  150.639999  155.229996  150.639999  154.649994   \n",
       "1     AAPL  2023-02-08  153.880005  154.580002  151.169998  151.919998   \n",
       "2     AAPL  2023-02-09  153.779999  154.330002  150.419998  150.869995   \n",
       "3     AAPL  2023-02-10  149.460007  151.339996  149.220001  151.009995   \n",
       "4     AAPL  2023-02-13  150.949997  154.259995  150.919998  153.850006   \n",
       "..     ...         ...         ...         ...         ...         ...   \n",
       "243   GOOG  2023-05-01  107.720001  108.680000  107.500000  107.709999   \n",
       "244   GOOG  2023-05-02  107.660004  107.730003  104.500000  105.980003   \n",
       "245   GOOG  2023-05-03  106.220001  108.129997  105.620003  106.120003   \n",
       "246   GOOG  2023-05-04  106.160004  106.300003  104.699997  105.209999   \n",
       "247   GOOG  2023-05-05  105.320000  106.440002  104.738998  106.214996   \n",
       "\n",
       "      Adj Close    Volume  \n",
       "0    154.414230  83322600  \n",
       "1    151.688400  64120100  \n",
       "2    150.639999  56007100  \n",
       "3    151.009995  57450700  \n",
       "4    153.850006  62199000  \n",
       "..          ...       ...  \n",
       "243  107.709999  20926300  \n",
       "244  105.980003  20343100  \n",
       "245  106.120003  17116300  \n",
       "246  105.209999  19780600  \n",
       "247  106.214996  20705300  \n",
       "\n",
       "[248 rows x 8 columns]"
      ]
     },
     "execution_count": 5,
     "metadata": {},
     "output_type": "execute_result"
    }
   ],
   "source": [
    "df= pd.read_csv('C:\\\\Users\\\\Asus\\\\Downloads\\\\stocks\\\\stocks.csv')\n",
    "df"
   ]
  },
  {
   "cell_type": "code",
   "execution_count": 18,
   "id": "3a16d82e-85e0-47cb-8b00-860c5195f0ed",
   "metadata": {},
   "outputs": [],
   "source": [
    "import seaborn as sns\n",
    "port matplotlib.pyplot as plt"
   ]
  },
  {
   "cell_type": "code",
   "execution_count": 23,
   "id": "f5c8d9f5-4bb8-43ca-9fd7-a3ab96d24030",
   "metadata": {},
   "outputs": [
    {
     "data": {
      "image/png": "[encoded data removed]",
      "text/plain": [
       "<Figure size 1000x600 with 1 Axes>"
      ]
     },
     "metadata": {},
     "output_type": "display_data"
    }
   ],
   "source": [
    "\n",
    "grouped_data = df.groupby('Ticker')['Close'].mean().reset_index()\n",
    "\n",
    "plt.figure(figsize=(10, 6))\n",
    "sns.barplot(data=grouped_data, x='Ticker', y='Close')\n",
    "plt.xlabel('Company')\n",
    "plt.ylabel('Mean Close Price')\n",
    "plt.title('Stock Market Performance')\n",
    "plt.show()\n"
   ]
  },
  {
   "cell_type": "code",
   "execution_count": 9,
   "id": "fde58218-8ed2-4a5f-ad57-3175b6c9e72a",
   "metadata": {},
   "outputs": [
    {
     "name": "stdout",
     "output_type": "stream",
     "text": [
      "<class 'pandas.core.frame.DataFrame'>\n",
      "RangeIndex: 248 entries, 0 to 247\n",
      "Data columns (total 8 columns):\n",
      " #   Column     Non-Null Count  Dtype  \n",
      "---  ------     --------------  -----  \n",
      " 0   Ticker     248 non-null    object \n",
      " 1   Date       248 non-null    object \n",
      " 2   Open       248 non-null    float64\n",
      " 3   High       248 non-null    float64\n",
      " 4   Low        248 non-null    float64\n",
      " 5   Close      248 non-null    float64\n",
      " 6   Adj Close  248 non-null    float64\n",
      " 7   Volume     248 non-null    int64  \n",
      "dtypes: float64(5), int64(1), object(2)\n",
      "memory usage: 15.6+ KB\n"
     ]
    }
   ],
   "source": [
    "df.info()"
   ]
  },
  {
   "cell_type": "code",
   "execution_count": 10,
   "id": "e44aa6e9-459f-4a0a-90e1-71a6ceaa4cb5",
   "metadata": {},
   "outputs": [
    {
     "name": "stdout",
     "output_type": "stream",
     "text": [
      "\n",
      "Records where Closing Price is above 100:\n",
      "    Ticker        Date        Open        High         Low       Close  \\\n",
      "0     AAPL  2023-02-07  150.639999  155.229996  150.639999  154.649994   \n",
      "1     AAPL  2023-02-08  153.880005  154.580002  151.169998  151.919998   \n",
      "2     AAPL  2023-02-09  153.779999  154.330002  150.419998  150.869995   \n",
      "3     AAPL  2023-02-10  149.460007  151.339996  149.220001  151.009995   \n",
      "4     AAPL  2023-02-13  150.949997  154.259995  150.919998  153.850006   \n",
      "..     ...         ...         ...         ...         ...         ...   \n",
      "243   GOOG  2023-05-01  107.720001  108.680000  107.500000  107.709999   \n",
      "244   GOOG  2023-05-02  107.660004  107.730003  104.500000  105.980003   \n",
      "245   GOOG  2023-05-03  106.220001  108.129997  105.620003  106.120003   \n",
      "246   GOOG  2023-05-04  106.160004  106.300003  104.699997  105.209999   \n",
      "247   GOOG  2023-05-05  105.320000  106.440002  104.738998  106.214996   \n",
      "\n",
      "      Adj Close    Volume  \n",
      "0    154.414230  83322600  \n",
      "1    151.688400  64120100  \n",
      "2    150.639999  56007100  \n",
      "3    151.009995  57450700  \n",
      "4    153.850006  62199000  \n",
      "..          ...       ...  \n",
      "243  107.709999  20926300  \n",
      "244  105.980003  20343100  \n",
      "245  106.120003  17116300  \n",
      "246  105.209999  19780600  \n",
      "247  106.214996  20705300  \n",
      "\n",
      "[223 rows x 8 columns]\n"
     ]
    }
   ],
   "source": [
    "high_price_records = df[df['Close'] > 100]\n",
    "print(\"\\nRecords where Closing Price is above 100:\")\n",
    "print(high_price_records)"
   ]
  },
  {
   "cell_type": "code",
   "execution_count": 11,
   "id": "11526ac2-2f9c-49eb-beeb-80755c697402",
   "metadata": {},
   "outputs": [
    {
     "name": "stdout",
     "output_type": "stream",
     "text": [
      "\n",
      "Mean Volume: 32082104.032258064\n"
     ]
    }
   ],
   "source": [
    "mean_volume = df['Volume'].mean()\n",
    "print(\"\\nMean Volume:\", mean_volume)"
   ]
  },
  {
   "cell_type": "code",
   "execution_count": null,
   "id": "db061126-2f07-4832-b821-c63fc2570041",
   "metadata": {},
   "outputs": [],
   "source": []
  }
 ],
 "metadata": {
  "kernelspec": {
   "display_name": "Python 3 (ipykernel)",
   "language": "python",
   "name": "python3"
  },
  "language_info": {
   "codemirror_mode": {
    "name": "ipython",
    "version": 3
   },
   "file_extension": ".py",
   "mimetype": "text/x-python",
   "name": "python",
   "nbconvert_exporter": "python",
   "pygments_lexer": "ipython3",
   "version": "3.12.1"
  }
 },
 "nbformat": 4,
 "nbformat_minor": 5
}
